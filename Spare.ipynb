{
 "cells": [
  {
   "cell_type": "code",
   "execution_count": 3,
   "id": "12e180ef-bbed-4aaf-9a27-3da102ac024b",
   "metadata": {},
   "outputs": [],
   "source": [
    "import numpy as np\n",
    "from scipy.sparse import csr_matrix"
   ]
  },
  {
   "cell_type": "code",
   "execution_count": 7,
   "id": "ca85ab97-89ee-4132-ae0c-25a636b9fe76",
   "metadata": {},
   "outputs": [
    {
     "name": "stdout",
     "output_type": "stream",
     "text": [
      "[[0 0 3]\n",
      " [0 5 0]\n",
      " [0 0 0]]\n"
     ]
    }
   ],
   "source": [
    "# since defined the array of mXn where it forms the dense matrix which stroe all the zero and non-zero element \n",
    "# using the sparse matrix which store only the non-zero element values\n",
    "#convert the dense to sparse\n",
    "dense_matrix = np.array([[0, 0, 3], [0, 5, 0], [0, 0, 0]])\n",
    "print(dense_matrix)"
   ]
  },
  {
   "cell_type": "code",
   "execution_count": 48,
   "id": "bbcddfa4-9fda-4faf-8034-091184de7d08",
   "metadata": {},
   "outputs": [
    {
     "name": "stdout",
     "output_type": "stream",
     "text": [
      "  (0, 2)\t3\n",
      "  (1, 1)\t5----    (1, 1)\t5\n",
      "  (0, 2)\t3\n"
     ]
    }
   ],
   "source": [
    "sparse_matrix=csr_matrix(dense_matrix)\n",
    "print(sparse_matrix,end=\"----  \") #go with the rowwise\n",
    "cscMatrix=csc_matrix(sparse_matrix)\n",
    "print(cscMatrix) # go with the column wise"
   ]
  },
  {
   "cell_type": "code",
   "execution_count": 34,
   "id": "b1e5f60f-64f5-47a4-8033-429777ab7661",
   "metadata": {},
   "outputs": [
    {
     "name": "stdout",
     "output_type": "stream",
     "text": [
      "  (0, 1)\t3\n",
      "  (0, 8)\t2\n",
      "  (1, 2)\t4\n",
      "  (1, 3)\t5\n",
      "  (1, 4)\t1\n",
      "  (1, 5)\t5\n",
      "  (1, 7)\t3\n",
      "  (1, 8)\t3\n",
      "  (2, 0)\t1\n",
      "  (2, 1)\t2\n",
      "  (2, 3)\t5\n",
      "  (2, 5)\t5\n",
      "  (2, 7)\t3\n",
      "  (2, 9)\t4\n",
      "  (3, 0)\t1\n",
      "  (3, 1)\t2\n",
      "  (3, 2)\t5\n",
      "  (3, 3)\t2\n",
      "  (3, 4)\t5\n",
      "  (3, 7)\t4\n",
      "  (3, 8)\t3\n",
      "  (3, 9)\t5\n",
      "  (4, 0)\t2\n",
      "  (4, 1)\t4\n",
      "  (4, 5)\t3\n",
      "  :\t:\n",
      "  (5, 5)\t1\n",
      "  (5, 6)\t5\n",
      "  (5, 7)\t5\n",
      "  (5, 8)\t1\n",
      "  (6, 1)\t5\n",
      "  (6, 2)\t1\n",
      "  (6, 3)\t1\n",
      "  (6, 6)\t3\n",
      "  (6, 9)\t2\n",
      "  (7, 1)\t1\n",
      "  (7, 4)\t2\n",
      "  (7, 5)\t3\n",
      "  (7, 8)\t5\n",
      "  (8, 1)\t3\n",
      "  (8, 3)\t5\n",
      "  (8, 4)\t2\n",
      "  (8, 5)\t5\n",
      "  (8, 7)\t5\n",
      "  (8, 9)\t2\n",
      "  (9, 0)\t4\n",
      "  (9, 3)\t5\n",
      "  (9, 4)\t5\n",
      "  (9, 7)\t1\n",
      "  (9, 8)\t4\n",
      "  (9, 9)\t3\n"
     ]
    }
   ],
   "source": [
    "# Storage Efficiency and Memory Usage\n",
    "\n",
    "from scipy.sparse import csr_matrix,csc_matrix,coo_matrix\n",
    "\n",
    "def matrix_convert (martix):\n",
    "    csrMatrix=csr_matrix(martix)\n",
    "    cscMatrix=csc_matrix(martix)\n",
    "    cooMatrix=coo_matrix(martix)\n",
    "    return csrMatrix\n",
    "\n",
    "#let make 10X10 matrix\n",
    "matrix = np.random.choice([0, 0, 0, 0, 0, 1, 2, 3, 4, 5], size=(10, 10))\n",
    "print(matrix_convert(matrix))"
   ]
  },
  {
   "cell_type": "code",
   "execution_count": 25,
   "id": "f8a1335f-f05a-4355-81f6-6cf8bfcdcbbf",
   "metadata": {},
   "outputs": [],
   "source": [
    " # np.random.seed(42)  # For reproducibility"
   ]
  },
  {
   "cell_type": "code",
   "execution_count": null,
   "id": "9aef508a-d12b-49dc-a4eb-73bda3039081",
   "metadata": {},
   "outputs": [],
   "source": []
  },
  {
   "cell_type": "code",
   "execution_count": null,
   "id": "5b50b9af-dc93-4428-9f41-45e2dc14dfeb",
   "metadata": {},
   "outputs": [],
   "source": []
  }
 ],
 "metadata": {
  "kernelspec": {
   "display_name": "Python 3 (ipykernel)",
   "language": "python",
   "name": "python3"
  },
  "language_info": {
   "codemirror_mode": {
    "name": "ipython",
    "version": 3
   },
   "file_extension": ".py",
   "mimetype": "text/x-python",
   "name": "python",
   "nbconvert_exporter": "python",
   "pygments_lexer": "ipython3",
   "version": "3.12.4"
  }
 },
 "nbformat": 4,
 "nbformat_minor": 5
}
