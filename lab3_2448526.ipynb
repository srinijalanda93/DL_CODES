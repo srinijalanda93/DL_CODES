{
 "cells": [
  {
   "cell_type": "code",
   "execution_count": 1,
   "metadata": {},
   "outputs": [],
   "source": [
    "import tensorflow as tf\n",
    "from tensorflow import keras\n",
    "import numpy as np\n",
    "import pandas as pd\n",
    "import matplotlib.pyplot as plt"
   ]
  },
  {
   "cell_type": "code",
   "execution_count": null,
   "metadata": {},
   "outputs": [],
   "source": [
    "# Load data from CSV files\n",
    "train_data = pd.read_csv('mnist_train.csv')\n",
    "test_data = pd.read_csv('mnist_test.csv')\n",
    "\n",
    "# Extract features and labels\n",
    "x_train = train_data.iloc[:, 1:].values / 255.0  # Normalize pixel values\n",
    "y_train = train_data.iloc[:, 0].values\n",
    "x_test = test_data.iloc[:, 1:].values / 255.0\n",
    "y_test = test_data.iloc[:, 0].values\n",
    "\n"
   ]
  },
  {
   "cell_type": "code",
   "execution_count": null,
   "metadata": {},
   "outputs": [],
   "source": [
    "# Flatten input\n",
    "x_train, x_test = x_train.reshape(-1, 28*28), x_test.reshape(-1, 28*28)\n",
    "\n",
    "# Define function to build models\n",
    "def build_model(regularizer=None):\n",
    "    model = keras.Sequential([\n",
    "        keras.layers.Dense(128, activation='relu', kernel_regularizer=regularizer),\n",
    "        keras.layers.Dense(64, activation='relu', kernel_regularizer=regularizer),\n",
    "        keras.layers.Dense(10, activation='softmax')\n",
    "    ])\n",
    "    model.compile(optimizer='adam', loss='sparse_categorical_crossentropy', metrics=['accuracy'])\n",
    "    return model\n",
    "\n",
    "# Train baseline model (No Regularization)\n",
    "baseline_model = build_model()\n",
    "baseline_history = baseline_model.fit(x_train, y_train, epochs=10, validation_data=(x_test, y_test), verbose=2)\n",
    "\n",
    "# Train L1 Regularized Model\n",
    "l1_model = build_model(keras.regularizers.l1(0.01))\n",
    "l1_history = l1_model.fit(x_train, y_train, epochs=10, validation_data=(x_test, y_test), verbose=2)\n",
    "\n",
    "# Train L2 Regularized Model\n",
    "l2_model = build_model(keras.regularizers.l2(0.01))\n",
    "l2_history = l2_model.fit(x_train, y_train, epochs=10, validation_data=(x_test, y_test), verbose=2)\n",
    "\n",
    "# Plot Loss and Accuracy\n",
    "plt.figure(figsize=(12, 5))\n",
    "\n",
    "plt.subplot(1, 2, 1)\n",
    "plt.plot(baseline_history.history['loss'], label='Baseline Loss')\n",
    "plt.plot(l1_history.history['loss'], label='L1 Loss')\n",
    "plt.plot(l2_history.history['loss'], label='L2 Loss')\n",
    "plt.title('Loss Comparison')\n",
    "plt.xlabel('Epochs')\n",
    "plt.ylabel('Loss')\n",
    "plt.legend()\n",
    "\n",
    "plt.subplot(1, 2, 2)\n",
    "plt.plot(baseline_history.history['accuracy'], label='Baseline Accuracy')\n",
    "plt.plot(l1_history.history['accuracy'], label='L1 Accuracy')\n",
    "plt.plot(l2_history.history['accuracy'], label='L2 Accuracy')\n",
    "plt.title('Accuracy Comparison')\n",
    "plt.xlabel('Epochs')\n",
    "plt.ylabel('Accuracy')\n",
    "plt.legend()\n",
    "\n",
    "plt.show()\n",
    "\n",
    "# Weight distribution visualization\n",
    "def plot_weights(model, title):\n",
    "    weights = model.get_weights()[0].flatten()\n",
    "    plt.hist(weights, bins=50, alpha=0.7)\n",
    "    plt.title(title)\n",
    "    plt.xlabel(\"Weight Values\")\n",
    "    plt.ylabel(\"Frequency\")\n",
    "    plt.show()\n",
    "\n",
    "plot_weights(baseline_model, \"Baseline Model Weights\")\n",
    "plot_weights(l1_model, \"L1 Regularized Weights\")\n",
    "plot_weights(l2_model, \"L2 Regularized Weights\")\n"
   ]
  }
 ],
 "metadata": {
  "kernelspec": {
   "display_name": "base",
   "language": "python",
   "name": "python3"
  },
  "language_info": {
   "codemirror_mode": {
    "name": "ipython",
    "version": 3
   },
   "file_extension": ".py",
   "mimetype": "text/x-python",
   "name": "python",
   "nbconvert_exporter": "python",
   "pygments_lexer": "ipython3",
   "version": "3.12.4"
  }
 },
 "nbformat": 4,
 "nbformat_minor": 2
}
