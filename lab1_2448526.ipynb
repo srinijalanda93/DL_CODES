{
 "cells": [
  {
   "cell_type": "markdown",
   "metadata": {},
   "source": [
    "# LAB 1"
   ]
  },
  {
   "cell_type": "code",
   "execution_count": 1,
   "metadata": {},
   "outputs": [],
   "source": [
    "import numpy as np"
   ]
  },
  {
   "cell_type": "code",
   "execution_count": 9,
   "metadata": {},
   "outputs": [],
   "source": [
    "# activation function\n",
    "\n",
    "def relu(x):\n",
    "    return np.maximum(0, x)\n",
    "\n",
    "def relu_derivative(x):\n",
    "    return np.where(x > 0, 1, 0)\n",
    "\n",
    "def sigmoid(x):\n",
    "    return 1 / (1 + np.exp(-x))\n",
    "\n",
    "def sigmoid_derivative(x):\n",
    "    return x * (1 - x)"
   ]
  },
  {
   "cell_type": "code",
   "execution_count": 10,
   "metadata": {},
   "outputs": [],
   "source": [
    "# Input and output for XOR gate\n",
    "X = np.array([[0, 0],\n",
    "              [0, 1],\n",
    "              [1, 0],\n",
    "              [1, 1]])\n",
    "\n",
    "y = np.array([[0],\n",
    "              [1],\n",
    "              [1],\n",
    "              [0]])"
   ]
  },
  {
   "cell_type": "code",
   "execution_count": 11,
   "metadata": {},
   "outputs": [],
   "source": [
    "# defined architecture\n",
    "input_layer_neurons = 2    \n",
    "hidden_layer_neurons = 4   \n",
    "output_neurons = 1  "
   ]
  },
  {
   "cell_type": "code",
   "execution_count": 5,
   "metadata": {},
   "outputs": [],
   "source": [
    "# initialize weights and biases using Xavier initialization\n",
    "np.random.seed(42\n",
    "               )\n",
    "weights_input_hidden = np.random.randn(input_layer_neurons, hidden_layer_neurons) * np.sqrt(2 / input_layer_neurons)\n",
    "bias_hidden = np.zeros((1, hidden_layer_neurons))\n",
    "weights_hidden_output = np.random.randn(hidden_layer_neurons, output_neurons) * np.sqrt(2 / hidden_layer_neurons)\n",
    "bias_output = np.zeros((1, output_neurons))\n",
    "\n",
    "# Learning rate\n",
    "lr = 0.009\n",
    "\n",
    "# epochs and losses\n",
    "epochs = 20000\n",
    "losses = []"
   ]
  },
  {
   "cell_type": "code",
   "execution_count": 6,
   "metadata": {},
   "outputs": [
    {
     "name": "stdout",
     "output_type": "stream",
     "text": [
      "Epoch 0, Loss: 0.31152038919874975\n",
      "Epoch 500, Loss: 0.2514872075095409\n",
      "Epoch 1000, Loss: 0.25013667427257197\n",
      "Epoch 1500, Loss: 0.24940135667179092\n",
      "Epoch 2000, Loss: 0.24858487380378377\n",
      "Epoch 2500, Loss: 0.2471732849414031\n",
      "Epoch 3000, Loss: 0.24379862583655637\n",
      "Epoch 3500, Loss: 0.23568292183068543\n",
      "Epoch 4000, Loss: 0.22205650714561964\n",
      "Epoch 4500, Loss: 0.19731507715874286\n",
      "Epoch 5000, Loss: 0.16004178732408902\n",
      "Epoch 5500, Loss: 0.13248469012148187\n",
      "Epoch 6000, Loss: 0.108107166614657\n",
      "Epoch 6500, Loss: 0.08684949964756082\n",
      "Epoch 7000, Loss: 0.06925185103525784\n",
      "Epoch 7500, Loss: 0.0554037690952613\n",
      "Epoch 8000, Loss: 0.044783705289471745\n",
      "Epoch 8500, Loss: 0.03673592430439947\n",
      "Epoch 9000, Loss: 0.030597259672751915\n",
      "Epoch 9500, Loss: 0.025880465969123818\n",
      "Epoch 10000, Loss: 0.02217739245357645\n",
      "Epoch 10500, Loss: 0.019241694400382394\n",
      "Epoch 11000, Loss: 0.016883881931861876\n",
      "Epoch 11500, Loss: 0.014957123562283247\n",
      "Epoch 12000, Loss: 0.013371299287258127\n",
      "Epoch 12500, Loss: 0.01204292686644684\n",
      "Epoch 13000, Loss: 0.010925007789033561\n",
      "Epoch 13500, Loss: 0.00996814488961781\n",
      "Epoch 14000, Loss: 0.009147679646427737\n",
      "Epoch 14500, Loss: 0.008436797642563729\n",
      "Epoch 15000, Loss: 0.007815079987251453\n",
      "Epoch 15500, Loss: 0.007268229932737349\n",
      "Epoch 16000, Loss: 0.0067855945935610396\n",
      "Epoch 16500, Loss: 0.006356473826094162\n",
      "Epoch 17000, Loss: 0.005971753879331892\n",
      "Epoch 17500, Loss: 0.005627144159925139\n",
      "Epoch 18000, Loss: 0.005316774702636109\n",
      "Epoch 18500, Loss: 0.005034320369246594\n",
      "Epoch 19000, Loss: 0.0047773228230668496\n",
      "Epoch 19500, Loss: 0.0045431938129175675\n"
     ]
    }
   ],
   "source": [
    "# Training the network\n",
    "for epoch in range(epochs):\n",
    "    hidden_layer_input = np.dot(X, weights_input_hidden) + bias_hidden\n",
    "    hidden_layer_output = relu(hidden_layer_input)\n",
    "\n",
    "    output_layer_input = np.dot(hidden_layer_output, weights_hidden_output) + bias_output\n",
    "    predicted_output = sigmoid(output_layer_input)\n",
    "\n",
    "    # error\n",
    "    error = y - predicted_output\n",
    "    loss = np.mean(error**2)\n",
    "    losses.append(loss)\n",
    "\n",
    "    # Backpropagation\n",
    "    d_predicted_output = error * sigmoid_derivative(predicted_output)\n",
    "\n",
    "    error_hidden_layer = d_predicted_output.dot(weights_hidden_output.T)\n",
    "    d_hidden_layer = error_hidden_layer * relu_derivative(hidden_layer_output)\n",
    "\n",
    "    # Update weights and biases\n",
    "    weights_hidden_output += hidden_layer_output.T.dot(d_predicted_output) * lr\n",
    "    bias_output += np.sum(d_predicted_output, axis=0, keepdims=True) * lr\n",
    "    \n",
    "    weights_input_hidden += X.T.dot(d_hidden_layer) * lr\n",
    "    bias_hidden += np.sum(d_hidden_layer, axis=0, keepdims=True) * lr\n",
    "\n",
    "    # Print loss \n",
    "    if epoch % 500 == 0:\n",
    "        print(f\"Epoch {epoch}, Loss: {loss}\")\n"
   ]
  },
  {
   "cell_type": "code",
   "execution_count": 7,
   "metadata": {},
   "outputs": [
    {
     "name": "stdout",
     "output_type": "stream",
     "text": [
      "Trained XOR Gate Outputs:\n",
      "0\n",
      "1\n",
      "1\n",
      "0\n"
     ]
    }
   ],
   "source": [
    "print(\"Trained XOR Gate Outputs:\")\n",
    "\n",
    "for i in predicted_output:\n",
    "    if i >= 0.5:\n",
    "        print(1)\n",
    "    else:\n",
    "        print(0)"
   ]
  },
  {
   "cell_type": "code",
   "execution_count": 8,
   "metadata": {},
   "outputs": [
    {
     "data": {
      "text/plain": [
       "Text(0.5, 1.0, 'Loss Curve')"
      ]
     },
     "execution_count": 8,
     "metadata": {},
     "output_type": "execute_result"
    },
    {
     "data": {
      "image/png": "[encoded data removed]",
      "text/plain": [
       "<Figure size 640x480 with 1 Axes>"
      ]
     },
     "metadata": {},
     "output_type": "display_data"
    }
   ],
   "source": [
    "import matplotlib.pyplot as plt\n",
    "plt.plot(losses)\n",
    "plt.xlabel('Epoch')\n",
    "plt.ylabel('Loss')\n",
    "plt.title('Loss Curve')"
   ]
  },
  {
   "cell_type": "code",
   "execution_count": null,
   "metadata": {},
   "outputs": [],
   "source": []
  }
 ],
 "metadata": {
  "kernelspec": {
   "display_name": "base",
   "language": "python",
   "name": "python3"
  },
  "language_info": {
   "codemirror_mode": {
    "name": "ipython",
    "version": 3
   },
   "file_extension": ".py",
   "mimetype": "text/x-python",
   "name": "python",
   "nbconvert_exporter": "python",
   "pygments_lexer": "ipython3",
   "version": "3.12.4"
  }
 },
 "nbformat": 4,
 "nbformat_minor": 2
}
